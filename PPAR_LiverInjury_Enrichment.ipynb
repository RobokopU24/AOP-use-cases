{
 "cells": [
  {
   "cell_type": "code",
   "execution_count": null,
   "id": "077092a9",
   "metadata": {},
   "outputs": [],
   "source": [
    "# Parameter inputs\n",
    "aragorn_submit_url = \"https://aragorn-u24.apps.renci.org/robokop/query\"\n",
    "answer_coalescer_submit_url = \"https://answercoalesce.renci.org/1.4/coalesce/all\"\n",
    "input_search_string = 'ppara'\n",
    "output_search_string = 'liver fibrosis'\n",
    "\n",
    "# Initializing directory to write\n",
    "from datetime import datetime\n",
    "from pathlib import Path\n",
    "\n",
    "now = datetime.now()\n",
    "dt_string = now.strftime(\"%Y-%m-%d_%H%M%S\")\n",
    "# write_dir = Path(\"output/TRAPI_enrichment\",str(dt_string))\n",
    "# write_dir.mkdir(parents=True, exist_ok=True)"
   ]
  },
  {
   "cell_type": "code",
   "execution_count": null,
   "id": "cf672bb7",
   "metadata": {},
   "outputs": [],
   "source": [
    "import requests\n",
    "import json\n",
    "import pprint\n",
    "pp = pprint.PrettyPrinter(indent=5)"
   ]
  },
  {
   "cell_type": "code",
   "execution_count": null,
   "id": "72295614",
   "metadata": {},
   "outputs": [],
   "source": [
    "results = requests.post(f'https://name-resolution-sri.renci.org/lookup?string={input_search_string}&offset=0&limit=100')\n",
    "results_json = results.json()\n",
    "#print(json.dumps(results_json,indent=4))\n",
    "input_node_id_list = list(results_json.keys())\n",
    "print(input_node_id_list)\n"
   ]
  },
  {
   "cell_type": "code",
   "execution_count": null,
   "id": "602e6891",
   "metadata": {},
   "outputs": [],
   "source": [
    "results = requests.post(f'https://name-resolution-sri.renci.org/lookup?string={output_search_string}&offset=0&limit=100')\n",
    "results_json = results.json()\n",
    "#print(json.dumps(results_json,indent=4))\n",
    "output_node_id_list = list(results_json.keys())\n",
    "print(output_node_id_list)"
   ]
  },
  {
   "cell_type": "code",
   "execution_count": null,
   "id": "4d896f3a",
   "metadata": {},
   "outputs": [],
   "source": [
    "query={\n",
    "    \"message\": {\n",
    "      \"query_graph\": {\n",
    "        \"edges\": {\n",
    "          \"e00\": {\n",
    "            \"subject\": \"n00\",\n",
    "              \"object\": \"n01\",\n",
    "          \"predicates\":[\"biolink:related_to\"]\n",
    "          },\n",
    "          \"e01\": {\n",
    "            \"subject\": \"n01\",\n",
    "              \"object\": \"n02\",\n",
    "          \"predicates\":[\"biolink:related_to\"]\n",
    "          }\n",
    "        },\n",
    "        \"nodes\": {\n",
    "          \"n00\": {\n",
    "            \"ids\": ['NCBIGene:5465'], # input_node_id_list\n",
    "            \"categories\": [\"biolink:GeneOrGeneProduct\"]\n",
    "          },\n",
    "          \"n01\": {\n",
    "              \"categories\": [\"biolink:BiologicalEntity\"]\n",
    "          },\n",
    "          \"n02\": {\n",
    "            \"ids\": [\"HP:0001395\"], # output_node_id_list\n",
    "            \"categories\": [\"biolink:DiseaseOrPhenotypicFeature\"]\n",
    "          }\n",
    "        }\n",
    "      }\n",
    "    }\n",
    "  }\n"
   ]
  },
  {
   "cell_type": "code",
   "execution_count": null,
   "id": "bb8540f3",
   "metadata": {},
   "outputs": [],
   "source": [
    "response_ara = requests.post(aragorn_submit_url,json=query)\n",
    "print(response_ara.status_code)\n",
    "number_pathway_results = len(response_ara.json()['message']['results'])\n",
    "print(len(response_ara.json()['message']['results']))"
   ]
  },
  {
   "cell_type": "code",
   "execution_count": null,
   "id": "f69d7acc",
   "metadata": {},
   "outputs": [],
   "source": [
    "json_to_write = response_ara.json()\n",
    "json_object = json.dumps(json_to_write, indent=4)\n",
    " \n",
    "# Writing TRAPI response_ara to JSON file\n",
    "with open(\"trapi_query_response_ara.json\", \"w\") as outfile:\n",
    "    outfile.write(json_object)"
   ]
  },
  {
   "cell_type": "markdown",
   "id": "af39a155-402c-497f-b1a8-0651ea56db64",
   "metadata": {},
   "source": [
    "To run the enrichment script `enrich_view.py`, from the Command Line, run `panel serve enrich_view.py --show --autoreload`"
   ]
  },
  {
   "cell_type": "code",
   "execution_count": null,
   "id": "a5cff367-147f-4210-ace9-bde1abd4c67a",
   "metadata": {},
   "outputs": [],
   "source": [
    "response_coalescer = requests.post(answer_coalescer_submit_url,json=response_ara.json())\n",
    "print(response_coalescer.status_code)\n",
    "print(response_coalescer.json())"
   ]
  },
  {
   "cell_type": "code",
   "execution_count": null,
   "id": "4d0ec0c9-16b8-47b6-b034-666980b33865",
   "metadata": {},
   "outputs": [],
   "source": [
    "json_to_write = response_coalescer.json()\n",
    "json_object = json.dumps(json_to_write, indent=4)\n",
    " \n",
    "# Writing TRAPI response_ara to JSON file\n",
    "with open(\"trapi_query_answer_coalescer.json\", \"w\") as outfile:\n",
    "    outfile.write(json_object)"
   ]
  },
  {
   "cell_type": "code",
   "execution_count": null,
   "id": "6ed37017-f4f4-4ebe-854c-3c0740379ca3",
   "metadata": {},
   "outputs": [],
   "source": []
  }
 ],
 "metadata": {
  "kernelspec": {
   "display_name": "Python 3 (ipykernel)",
   "language": "python",
   "name": "python3"
  },
  "language_info": {
   "codemirror_mode": {
    "name": "ipython",
    "version": 3
   },
   "file_extension": ".py",
   "mimetype": "text/x-python",
   "name": "python",
   "nbconvert_exporter": "python",
   "pygments_lexer": "ipython3",
   "version": "3.8.10"
  }
 },
 "nbformat": 4,
 "nbformat_minor": 5
}
